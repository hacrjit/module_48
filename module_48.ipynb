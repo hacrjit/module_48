{
 "cells": [
  {
   "cell_type": "markdown",
   "id": "367123f2-eaeb-4c21-94d9-6b91d99f0fc8",
   "metadata": {},
   "source": [
    "### <b>Question No. 1</b>"
   ]
  },
  {
   "cell_type": "markdown",
   "id": "c7d96c15-9fcb-4771-b260-e2ed2422aeb2",
   "metadata": {},
   "source": [
    "A t-test and a z-test are both statistical hypothesis tests used to determine if there is a significant difference between the means of two groups. However, they are used in different situations depending on the characteristics of the data.\n",
    "\n",
    "1. **Z-test**:\n",
    "   - **Population Variance Known**: The z-test is used when the population standard deviation is known and the sample size is large (typically n > 30).\n",
    "   - **Example Scenario**: Suppose we want to test if a new weight loss drug is effective in reducing weight. We have the population standard deviation of weight loss from previous studies, and we are comparing the weight loss of a sample of 50 participants before and after taking the drug.\n",
    "\n",
    "2. **T-test**:\n",
    "   - **Population Variance Unknown**: The t-test is used when the population standard deviation is unknown or when the sample size is small (typically n < 30).\n",
    "   - **Example Scenario**: Suppose we want to test if there is a difference in the mean test scores between two different teaching methods. We have two groups of students, one taught using Method A and the other using Method B, and we want to compare their test scores. Since we do not know the population standard deviation of test scores, we use a t-test."
   ]
  },
  {
   "cell_type": "markdown",
   "id": "9adaa4ac-d4a3-4b1c-b2b1-4b61f06b7c42",
   "metadata": {},
   "source": [
    "### <b>Question No. 2"
   ]
  },
  {
   "cell_type": "markdown",
   "id": "27c61724-c2a7-422d-81da-1ac43a8746a3",
   "metadata": {},
   "source": [
    "One-tailed and two-tailed tests are two types of hypothesis tests used in statistics. The key difference between them lies in the directionality of the hypothesis being tested.\n",
    "\n",
    "1. **One-tailed test**:\n",
    "   - A one-tailed test is used when the research hypothesis specifies a direction for the relationship or difference between the variables being studied.\n",
    "   - The critical region (the region where the null hypothesis is rejected) is located entirely in one tail of the sampling distribution.\n",
    "   - One-tailed tests are more powerful (i.e., more likely to detect a true effect) than two-tailed tests when the direction of the effect is known or predicted.\n",
    "   - Example: Testing whether a new drug treatment increases the average response time. The one-tailed null hypothesis would be that the treatment has no effect or decreases the average response time.\n",
    "\n",
    "2. **Two-tailed test**:\n",
    "   - A two-tailed test is used when the research hypothesis does not specify a direction for the relationship or difference between the variables being studied.\n",
    "   - The critical region is divided between the two tails of the sampling distribution.\n",
    "   - Two-tailed tests are appropriate when the direction of the effect is not known or when the researcher wants to test for the possibility of both positive and negative effects.\n",
    "   - Example: Testing whether a coin is fair (i.e., has an equal probability of landing heads or tails). The two-tailed null hypothesis would be that the coin is fair, with the alternative hypothesis being that the coin is biased either towards heads or tails."
   ]
  },
  {
   "cell_type": "markdown",
   "id": "64c5cf8b-55ab-4eea-97b3-87d46b83114a",
   "metadata": {},
   "source": [
    "### <b>Question No. 3"
   ]
  },
  {
   "cell_type": "markdown",
   "id": "b41c8840-a3c0-4f9c-aaaf-d3391d10270d",
   "metadata": {},
   "source": [
    "In hypothesis testing, Type I and Type II errors are two types of mistakes that can occur when interpreting the results of a hypothesis test.\n",
    "\n",
    "1. **Type I Error**:\n",
    "   - A Type I error occurs when the null hypothesis is incorrectly rejected when it is actually true. In other words, it is a false positive.\n",
    "   - The probability of committing a Type I error is denoted by the symbol α (alpha), which is the significance level of the test.\n",
    "   - Example Scenario: A medical test incorrectly indicates that a patient has a disease when they are actually healthy.\n",
    "\n",
    "2. **Type II Error**:\n",
    "   - A Type II error occurs when the null hypothesis is not rejected when it is actually false. In other words, it is a false negative.\n",
    "   - The probability of committing a Type II error is denoted by the symbol β (beta).\n",
    "   - Example Scenario: A medical test incorrectly indicates that a patient is healthy when they actually have a disease.\n",
    "\n",
    "It's important to note that there is a trade-off between Type I and Type II errors. By adjusting the significance level (α) of the test, you can control the balance between these two types of errors. A lower significance level reduces the likelihood of Type I errors but increases the likelihood of Type II errors, and vice versa."
   ]
  },
  {
   "cell_type": "markdown",
   "id": "b83cf481-c324-4334-aa90-46319d1f9741",
   "metadata": {},
   "source": [
    "### <b>Question No. 4"
   ]
  },
  {
   "cell_type": "markdown",
   "id": "d4d8496f-4db4-47c5-ae9a-d5b8c29d42bb",
   "metadata": {},
   "source": [
    "Bayes's theorem is a way to update the probability of an event based on new evidence. It's particularly useful in situations where we have prior knowledge that can affect the likelihood of an event.\n",
    "\n",
    "Example:\n",
    "\n",
    "Imagine you have a bag containing three red balls and two green balls. You randomly draw one ball from the bag without looking at its color. What is the probability that the ball is red?\n",
    "\n",
    "Initially, the probability of drawing a red ball is 3/5 (3 red balls out of 5 total balls).\n",
    "\n",
    "Now, let's say you peek at the ball and see that it's a red ball. Given this new evidence, you want to update the probability that the next ball you draw will also be red.\n",
    "\n",
    "Using Bayes's theorem, we can calculate this updated probability:\n",
    "\n",
    "P(Red|Red Seen) = P(Red Seen|Red) * P(Red) / P(Red Seen)\n",
    "\n",
    "Here:\n",
    "- P(Red) = 3/5 (prior probability of drawing a red ball)\n",
    "- P(Red Seen|Red) = 1 (probability of seeing a red ball if the ball drawn is red)\n",
    "- P(Red Seen) is the total probability of seeing a red ball, which is the sum of the probability of seeing a red ball given that it's red and the probability of seeing a red ball given that it's green:\n",
    "\n",
    "P(Red Seen) = P(Red Seen|Red) * P(Red) + P(Red Seen|Green) * P(Green)\n",
    "P(Red Seen) = 1 * 3/5 + 0 * 2/5\n",
    "P(Red Seen) = 3/5\n",
    "\n",
    "Now, we can plug these values into the formula:\n",
    "\n",
    "P(Red|Red Seen) = (1 * 3/5) / (3/5)\n",
    "P(Red|Red Seen) = 1\n",
    "\n",
    "So, after seeing that the first ball is red, the probability that the next ball will also be red is 1 or 100%."
   ]
  },
  {
   "cell_type": "markdown",
   "id": "db4e5aab-84d4-424c-8a66-1f95cdc99916",
   "metadata": {},
   "source": [
    "### <b>Question No. 5"
   ]
  },
  {
   "cell_type": "markdown",
   "id": "fb004534-1f43-4d70-8af8-db37275565bd",
   "metadata": {},
   "source": [
    "A confidence interval is a range of values that is likely to contain the true value of a population parameter. It is used to quantify the uncertainty associated with estimating a population parameter from a sample statistic.\n",
    "\n",
    "To calculate a confidence interval, you need three main pieces of information:\n",
    "1. The sample statistic (e.g., sample mean or sample proportion).\n",
    "2. The standard error of the statistic, which measures the variability of the statistic's sampling distribution.\n",
    "3. The confidence level, which represents the probability that the confidence interval will contain the true population parameter.\n",
    "\n",
    "The formula for calculating a confidence interval for a population mean, for example, is:\n",
    "\n",
    "Confidence Interval = Sample Mean ± Margin of Error\n",
    "\n",
    "Where the margin of error is calculated as:\n",
    "\n",
    "Margin of Error = Critical Value × (Standard Deviation / √n)\n",
    "\n",
    "Here's an example to illustrate the calculation of a confidence interval:\n",
    "\n",
    "Suppose you want to estimate the average height of adult males in a city. You take a random sample of 100 adult males and find that the average height in your sample is 175 cm, with a standard deviation of 5 cm.\n",
    "\n",
    "1. Calculate the standard error of the mean:\n",
    "   Standard Error = 5 / √100 = 5 / 10 = 0.5\n",
    "\n",
    "2. Determine the critical value for your desired confidence level. For a 95% confidence level (which is common), the critical value for a two-tailed test is approximately 1.96 (you can find this value from a standard normal distribution table or use a calculator).\n",
    "\n",
    "3. Calculate the margin of error:\n",
    "   Margin of Error = 1.96 × 0.5 = 0.98\n",
    "\n",
    "4. Calculate the confidence interval:\n",
    "   Confidence Interval = 175 ± 0.98 = (174.02, 175.98)\n",
    "\n",
    "This means that we are 95% confident that the true average height of adult males in the city is between 174.02 cm and 175.98 cm based on our sample data."
   ]
  },
  {
   "cell_type": "markdown",
   "id": "7a7d271c-61a0-406d-843e-5603f59a39cb",
   "metadata": {},
   "source": [
    "### <b>Question No. 6"
   ]
  },
  {
   "cell_type": "markdown",
   "id": "714a1bf3-2d11-45bb-8550-357e05001449",
   "metadata": {},
   "source": [
    "**Sample Problem:**\n",
    "A factory produces two types of bulbs, Type A and Type B. 60% of the bulbs are Type A, and 40% are Type B. Type A bulbs have a 5% defect rate, while Type B bulbs have a 10% defect rate. If a randomly selected bulb is defective, what is the probability that it is a Type A bulb?\n",
    "\n",
    "**Solution:**\n",
    "Let's denote:\n",
    "- A as the event that the bulb is Type A.\n",
    "- B as the event that the bulb is defective.\n",
    "\n",
    "Given:\n",
    "- P(A) = 0.6 (prior probability of Type A bulb)\n",
    "- P(B|A) = 0.05 (probability of defect given Type A)\n",
    "- P(B) = P(B|A) * P(A) + P(B|A') * P(A') (total probability of defect)\n",
    "\n",
    "Using Bayes' Theorem:\n",
    "\n",
    "P(A|B) = (P(B|A) * P(A)) / P(B)\n",
    "P(A|B) = (0.05 * 0.6) / (0.05 * 0.6 + 0.1 * 0.4)\n",
    "P(A|B) = 0.03 / (0.03 + 0.04)\n",
    "P(A|B) = 0.03 / 0.07\n",
    "P(A|B) = 0.4286\n",
    "\n",
    "So, the probability that a defective bulb is a Type A bulb is approximately 0.4286 or 42.86%."
   ]
  },
  {
   "cell_type": "markdown",
   "id": "f9e6998f-6a05-4195-8908-d5eee564f8dc",
   "metadata": {},
   "source": [
    "### <b>Question No. 7"
   ]
  },
  {
   "cell_type": "markdown",
   "id": "300b0210-71d9-4dc6-b6cb-66e6dbcd788c",
   "metadata": {},
   "source": [
    "To calculate the 95% confidence interval for a sample with a known standard deviation, you can use the formula:\n",
    "\n",
    "Confidence Interval = Mean ± (Z-score × Standard Deviation / √Sample Size)\n",
    "\n",
    "Given the mean of 50, standard deviation of 5, and assuming a sufficiently large sample size (for the Z-score approximation to be valid), the confidence interval can be calculated as:\n",
    "\n",
    "Confidence Interval = 50 ± (1.96 × 5 / √n)\n",
    "\n",
    "Since the sample size (n) is not provided, we can't calculate the exact confidence interval. However, for a large enough sample size, the 95% confidence interval would be approximately:\n",
    "\n",
    "Confidence Interval = 50 ± (1.96 × 5 / √n)\n",
    "\n",
    "Confidence Interval = 50 ± Margin of Error\n",
    "\n",
    "Interpretation:\n",
    "This means that we are 95% confident that the true population mean lies within the calculated interval. For example, if the interval is (48, 52), it means we are 95% confident that the true population mean is between 48 and 52."
   ]
  },
  {
   "cell_type": "markdown",
   "id": "b688e988-9b69-4600-8848-79f440c03fa4",
   "metadata": {},
   "source": [
    "### <b>Question No. 8"
   ]
  },
  {
   "cell_type": "markdown",
   "id": "e80cb0d4-99bb-4ea5-a16f-20f3b80bd3a3",
   "metadata": {},
   "source": [
    "The margin of error in a confidence interval is a measure of the precision of the estimate. It represents the amount by which the sample statistic (such as the sample mean) may differ from the population parameter (such as the population mean) and still be within the confidence interval. A smaller margin of error indicates a more precise estimate.\n",
    "\n",
    "The margin of error is inversely proportional to the square root of the sample size. This means that as the sample size increases, the margin of error decreases. Essentially, larger sample sizes provide more information about the population, leading to a more precise estimate and a smaller margin of error.\n",
    "\n",
    "**Example:**\n",
    "Suppose you are conducting a survey to estimate the average age of students in a university. If you survey only 10 students, your estimate may have a relatively large margin of error. However, if you survey 1000 students, your estimate is likely to be much more precise with a smaller margin of error.\n",
    "\n",
    "In this example, the larger sample size (1000 students) would result in a smaller margin of error compared to the smaller sample size (10 students)."
   ]
  },
  {
   "cell_type": "markdown",
   "id": "f4ad797c-450f-4299-9fec-de6a512549a8",
   "metadata": {},
   "source": [
    "### <b>Question No. 9"
   ]
  },
  {
   "cell_type": "markdown",
   "id": "0fed36f3-8318-4d54-9a83-848367311e78",
   "metadata": {},
   "source": [
    "To calculate the z-score for a data point of 75 in a population with a mean of 70 and a standard deviation of 5, you use the formula:\n",
    "\n",
    "Z-score = (X - μ) / σ\n",
    "\n",
    "Plugging in the values:\n",
    "\n",
    "Z-score = (75 - 70) / 5\n",
    "Z-score = 5 / 5\n",
    "Z-score = 1\n",
    "\n",
    "Interpretation:\n",
    "A z-score of 1 means that the data point (75) is 1 standard deviation above the population mean (70). This indicates that the data point is slightly above average compared to the population."
   ]
  },
  {
   "cell_type": "markdown",
   "id": "d0eb4c05-9a5d-40be-8b95-e1887fe055d8",
   "metadata": {},
   "source": [
    "### <b>Question No. 10"
   ]
  },
  {
   "cell_type": "markdown",
   "id": "ab311b0b-cba6-49f8-bf4a-2fe63c30bc66",
   "metadata": {},
   "source": [
    "To conduct a hypothesis test to determine if the weight loss drug is significantly effective, we can use a one-sample t-test. The null hypothesis, H0, is that the mean weight loss for the population (μ) is equal to zero pounds (no effect), while the alternative hypothesis, Ha, is that the mean weight loss for the population is greater than zero pounds (the drug is effective).\n",
    "\n",
    "Given:\n",
    "- Sample mean (x̄): 6 pounds\n",
    "- Sample standard deviation (s): 2.5 pounds\n",
    "- Sample size (n): 50\n",
    "- Population mean under the null hypothesis (μ0): 0 (no effect)\n",
    "- Confidence level: 95%\n",
    "\n",
    "The formula for the t-statistic is:\n",
    "\n",
    "t = (x̄ - μ0) / (s / √n)\n",
    "\n",
    "Plugging in the values, we get:\n",
    "\n",
    "t = (6 - 0) / (2.5 / √50)\n",
    "\n",
    "Calculating:\n",
    "\n",
    "t = 6 / (2.5 / √50)\n",
    "\n",
    "t = 6 / (2.5 / 7.071)\n",
    "\n",
    "t = 6 / 0.354\n",
    "\n",
    "t ≈ 16.949\n",
    "\n",
    "Degrees of freedom (df) = n - 1 = 50 - 1 = 49\n",
    "\n",
    "Using a t-table or a calculator, we find the critical t-value for a one-tailed test at 95% confidence level with 49 degrees of freedom is approximately 1.677.\n",
    "\n",
    "Since our calculated t-value (16.949) is greater than the critical t-value (1.677), we reject the null hypothesis. This means that there is enough evidence to suggest that the weight loss drug is significantly effective at a 95% confidence level."
   ]
  },
  {
   "cell_type": "markdown",
   "id": "9028bd07-a6b4-465a-b1e3-70b7749e3b7d",
   "metadata": {},
   "source": [
    "### <b>Question No. 11"
   ]
  },
  {
   "cell_type": "markdown",
   "id": "4bcfbce9-2e69-4158-b494-d3b696a9b62c",
   "metadata": {},
   "source": [
    "To calculate the 95% confidence interval for the true proportion of people satisfied with their job, we use the formula:\n",
    "\n",
    "CI = p̂ ± Z * √(p̂ * (1 - p̂) / n)\n",
    "\n",
    "Where:\n",
    "- p̂ (p-hat) is the sample proportion (65% or 0.65),\n",
    "- Z is the Z-score for a 95% confidence interval (approximately 1.96),\n",
    "- n is the sample size (500).\n",
    "\n",
    "Calculating the standard error (SE):\n",
    "\n",
    "SE = √(p̂ * (1 - p̂) / n)\n",
    "SE = √(0.65 * 0.35 / 500)\n",
    "SE = √(0.2275 / 500)\n",
    "SE = √0.000455\n",
    "SE = 0.02133\n",
    "\n",
    "Now, the confidence interval:\n",
    "\n",
    "CI = 0.65 ± 1.96 * 0.02133\n",
    "CI = 0.65 ± 0.04182\n",
    "CI = (0.60818, 0.69182)\n",
    "\n",
    "Therefore, the 95% confidence interval for the true proportion of people satisfied with their job is approximately 60.82% to 69.18%."
   ]
  },
  {
   "cell_type": "markdown",
   "id": "e16fbd31-d485-4631-8c3d-d71f02238a01",
   "metadata": {},
   "source": [
    "### <b>Question No. 12"
   ]
  },
  {
   "cell_type": "markdown",
   "id": "b66a56d3-9e12-4168-b738-23213a51f30f",
   "metadata": {},
   "source": [
    "To conduct a hypothesis test to determine if there is a significant difference in student performance between two teaching methods, we can use a two-sample t-test. Here's how:\n",
    "\n",
    "1. **Null Hypothesis (H0)**: There is no significant difference in student performance between the two teaching methods (μA = μB).\n",
    "2. **Alternative Hypothesis (Ha)**: There is a significant difference in student performance between the two teaching methods (μA ≠ μB).\n",
    "3. **Significance Level (α)**: 0.01.\n",
    "\n",
    "We need more information to calculate the test statistic:\n",
    "- Sample A mean (x̄A) = 85\n",
    "- Sample A standard deviation (sA) = 6\n",
    "- Sample B mean (x̄B) = 82\n",
    "- Sample B standard deviation (sB) = 5\n",
    "\n",
    "Since the sample sizes (nA and nB) are not provided, we cannot calculate the exact test statistic or critical value. We would need the sample sizes to complete the calculation.\n",
    "\n",
    "In conclusion, to conduct the hypothesis test, we would need the sample sizes of both groups. Once we have the sample sizes, we can calculate the test statistic and compare it to the critical value to determine if there is a significant difference in student performance between the two teaching methods."
   ]
  },
  {
   "cell_type": "markdown",
   "id": "2d899671-2708-47ed-a682-e812b78e7109",
   "metadata": {},
   "source": [
    "### <b>Question No. 13"
   ]
  },
  {
   "cell_type": "markdown",
   "id": "e3696afa-3a9a-4a88-9435-0554a33f19f0",
   "metadata": {},
   "source": [
    "To calculate the 90% confidence interval for the true population mean, we use the formula:\n",
    "\n",
    "Confidence Interval = Sample mean ± Z * (Standard deviation / √Sample size)\n",
    "\n",
    "Given:\n",
    "- Sample mean = 65\n",
    "- Standard deviation = 8\n",
    "- Sample size = 50\n",
    "- Z-score for a 90% confidence level ≈ 1.645\n",
    "\n",
    "First, calculate the standard error of the mean:\n",
    "\n",
    "Standard Error = Standard deviation / √Sample size ≈ 8 / √50 ≈ 1.131\n",
    "\n",
    "Then, plug the values into the formula:\n",
    "\n",
    "Confidence Interval = 65 ± 1.645 * 1.131 ≈ 65 ± 1.860\n",
    "\n",
    "Therefore, the 90% confidence interval for the true population mean is approximately 63.14 to 66.86."
   ]
  },
  {
   "cell_type": "markdown",
   "id": "9d749649-f7f1-42f2-ab2d-410d97d0cb0d",
   "metadata": {},
   "source": [
    "### <b>Question No. 14"
   ]
  },
  {
   "cell_type": "markdown",
   "id": "da1b6dfd-786a-45de-8582-7e0df2092923",
   "metadata": {},
   "source": [
    "To conduct the hypothesis test:\n",
    "\n",
    "1. **Null Hypothesis (H0)**: Caffeine has no significant effect on reaction time.\n",
    "2. **Alternative Hypothesis (Ha)**: Caffeine has a significant effect on reaction time.\n",
    "3. **Significance Level (α)**: 0.10 (90% confidence level).\n",
    "\n",
    "Calculate the t-value:\n",
    "- Sample mean (x̄) = 0.25 seconds\n",
    "- Sample standard deviation (s) = 0.05 seconds\n",
    "- Sample size (n) = 30\n",
    "- Population mean (μ) = 0\n",
    "\n",
    "t = (0.25 - 0) / (0.05 / √30)\n",
    "\n",
    "Find the critical t-value for a 90% confidence level and 29 degrees of freedom (df = n - 1 = 30 - 1 = 29). The critical t-value is approximately 1.699.\n",
    "\n",
    "Since the absolute value of the calculated t-value is greater than the critical t-value (1.699 > 0), we reject the null hypothesis. This suggests that caffeine has a significant effect on reaction time at a 90% confidence level."
   ]
  }
 ],
 "metadata": {
  "kernelspec": {
   "display_name": "Python 3 (ipykernel)",
   "language": "python",
   "name": "python3"
  },
  "language_info": {
   "codemirror_mode": {
    "name": "ipython",
    "version": 3
   },
   "file_extension": ".py",
   "mimetype": "text/x-python",
   "name": "python",
   "nbconvert_exporter": "python",
   "pygments_lexer": "ipython3",
   "version": "3.10.12"
  }
 },
 "nbformat": 4,
 "nbformat_minor": 5
}
